{
 "cells": [
  {
   "cell_type": "code",
   "execution_count": 17,
   "metadata": {},
   "outputs": [],
   "source": [
    "from keras.models import load_model\n",
    "import numpy as np\n",
    "import gymnasium as gym\n"
   ]
  },
  {
   "cell_type": "code",
   "execution_count": 18,
   "metadata": {},
   "outputs": [
    {
     "name": "stdout",
     "output_type": "stream",
     "text": [
      "episode:0, score:298\n",
      "episode:1, score:157\n",
      "episode:2, score:206\n",
      "episode:3, score:163\n",
      "episode:4, score:278\n"
     ]
    }
   ],
   "source": [
    "model = load_model(\"model.keras\")\n",
    "\n",
    "env = gym.make(\"CartPole-v1\", render_mode=\"human\")\n",
    "for episode in range(10):\n",
    "    state = env.reset()\n",
    "    if isinstance(state, tuple):\n",
    "        state = state[0]\n",
    "    state= np.array(state).reshape((1,4))\n",
    "    for step in range(1000):\n",
    "        action = np.argmax(model.predict(state, verbose=0))\n",
    "        next_state, reward, action, done, _ = env.step(action)\n",
    "        if isinstance(next_state, tuple):\n",
    "            next_state = next_state[0]\n",
    "        state= np.array(next_state).reshape((1,4))\n",
    "\n",
    "        if done or abs(state[0][0])>1 or abs(state[0][2])>0.2:\n",
    "            print(\"episode:{}, score:{}\".format(episode, step))\n",
    "            break"
   ]
  }
 ],
 "metadata": {
  "kernelspec": {
   "display_name": "Python 3",
   "language": "python",
   "name": "python3"
  },
  "language_info": {
   "codemirror_mode": {
    "name": "ipython",
    "version": 3
   },
   "file_extension": ".py",
   "mimetype": "text/x-python",
   "name": "python",
   "nbconvert_exporter": "python",
   "pygments_lexer": "ipython3",
   "version": "3.9.6"
  }
 },
 "nbformat": 4,
 "nbformat_minor": 2
}
